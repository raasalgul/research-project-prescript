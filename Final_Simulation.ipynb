{
 "cells": [
  {
   "cell_type": "code",
   "execution_count": 1,
   "id": "f3fb0ef7",
   "metadata": {},
   "outputs": [],
   "source": [
    "%matplotlib inline\n",
    "\n",
    "import pandas as pd\n",
    "from datetime import datetime\n",
    "import numpy as np\n",
    "import geopandas as gp\n",
    "import matplotlib.pyplot as plt\n",
    "import matplotlib\n",
    "from shapely.geometry import Point\n",
    "from adjustText import adjust_text\n",
    "\n",
    "\n",
    "# finalDatset = pd.DataFrame()\n",
    "\n",
    "totalGroupedDevices = []\n"
   ]
  },
  {
   "cell_type": "code",
   "execution_count": 2,
   "id": "aa49cd5d",
   "metadata": {},
   "outputs": [],
   "source": [
    "# load big files\n",
    "import math \n",
    "import numpy as np\n",
    "\n",
    "def generateFinalData(df_iterator):\n",
    "    li = []\n",
    "    # df_iterator = pd.read_csv('/Users/sathish/NCI/Final Project/Works/output8.csv',chunksize=10000000)\n",
    "    #     df_iterator = pd.read_csv('/Volumes/Samsung_T5/Research Project/Datasets/Output of prescripts/Instance 1/output3.csv',chunksize=10000000)\n",
    "    for index, data in enumerate(df_iterator):\n",
    "        prevTotal = 0\n",
    "        fileSizeList = [1200,12000,120000,240000]\n",
    "        data['propagation_delay'] = data['distance']*1000/300000 \n",
    "        pointIndex = data[data['Point'].isna()==False]\n",
    "        print(pointIndex.shape)\n",
    "        print(pointIndex.index[0])\n",
    "        print(data.index[0])\n",
    "        for fileSize in fileSizeList:\n",
    "            chunk = 32 # in mb\n",
    "            totalTransfer = math.ceil(fileSize/chunk)\n",
    "            deviceNeeded = math.ceil(totalTransfer/8) # each device can hold 8 chunks\n",
    "            print(totalTransfer)\n",
    "            print(deviceNeeded)\n",
    "            j=0\n",
    "            i=pointIndex.index[0]-data.index.start\n",
    "            while (i < data.shape[0] - 1) & (j < pointIndex.shape[0]-1):\n",
    "                i = i+1\n",
    "                if i != pointIndex.index[j]:\n",
    "                    devices = 0\n",
    "                    uploadBandwidth = 0\n",
    "                    downloadBandwidth = 0\n",
    "                    throughput = 0\n",
    "                    propagationDelay = 0\n",
    "                    while(devices<deviceNeeded):\n",
    "                        devicesCount = data.iloc[i].devices\n",
    "                        uploadBandwidthCount = data.iloc[i].avg_u_mbps\n",
    "                        downloadBandwidthCount = data.iloc[i].avg_d_mbps\n",
    "                        propagationDelayCount = data.iloc[i].propagation_delay\n",
    "                        if(devicesCount+devices<=deviceNeeded):\n",
    "                            devices += devicesCount\n",
    "                            uploadBandwidth += uploadBandwidthCount*devicesCount\n",
    "                            downloadBandwidth += downloadBandwidthCount*devicesCount\n",
    "                            throughput += (chunk/uploadBandwidthCount)*devicesCount\n",
    "                            propagationDelay += propagationDelayCount * devicesCount\n",
    "                        else:\n",
    "                            correctDevicesNeeded =  (devicesCount + devices) - deviceNeeded\n",
    "                            devices += correctDevicesNeeded\n",
    "                            uploadBandwidth += uploadBandwidthCount*correctDevicesNeeded\n",
    "                            downloadBandwidth += downloadBandwidthCount*correctDevicesNeeded\n",
    "                            throughput += (chunk/uploadBandwidthCount)*devicesCount\n",
    "                            propagationDelay += propagationDelayCount * devicesCount\n",
    "                        i=i+1\n",
    "                    throughput = throughput*8 # because 8 times it will go transfering to same device (we divided by 8 on top)\n",
    "                    propagationDelay = propagationDelay*8\n",
    "                    k = pointIndex.index[j]\n",
    "                    pointIndex.loc[k,'devices_'+str(fileSize/1200)+\"GB\"]= devices\n",
    "                    pointIndex.loc[k,'avg_u_mbps_'+str(fileSize/1200)+\"GB\"]=uploadBandwidth  \n",
    "                    pointIndex.loc[k,'avg_d_mbps_'+str(fileSize/1200)+\"GB\"]=downloadBandwidth\n",
    "                    pointIndex.loc[k,'throughput_'+str(fileSize/1200)+\"GB\"]=throughput\n",
    "                    pointIndex.loc[k,'propagation_delay_'+str(fileSize/1200)+\"GB\"]=propagationDelay\n",
    "\n",
    "                    #In our result we didn't add the total time taken from user to cloud, we could get that by\n",
    "                    # = throughput + propagation_delay + fileSize * 0.08 (processingdelay)\n",
    "\n",
    "                    # the 1 at the end is queing delay assume to be one\n",
    "                    pointIndex.loc[k,'system_upload_time_'+str(fileSize/1200)+\"GB\"] = propagationDelay + (fileSize * 0.2)/devices + 1\n",
    "                    popagationDelay1000 = 1000/300000\n",
    "                    # for 10 GB file in mac it took 4 mins to compress. 50 Mb per sec -> 0.02 sec per MB, We choose 4 time slower system\n",
    "                    pointIndex.loc[k,'upload_time_1000_'+str(fileSize/1200)+\"GB\"] = popagationDelay1000 + (fileSize * 0.08) + (1 * devices) \n",
    "                    # (1 * devices) is the queuing delay, since we have multiple devices our system will not have this\n",
    "                    popagationDelay500 = 500 / 300000\n",
    "                    pointIndex.loc[k,'upload_time_500_'+str(fileSize/1200)+\"GB\"] = popagationDelay500 + (fileSize * 0.08) + (1 * devices)\n",
    "                    popagationDelay250 = 250 / 300000\n",
    "                    pointIndex.loc[k,'upload_time_250_'+str(fileSize/1200)+\"GB\"] = popagationDelay250 + (fileSize * 0.08) + (1 * devices)\n",
    "                    j=j+1\n",
    "                    i = pointIndex.index[j]-data.index.start\n",
    "        li.append(pointIndex)\n",
    "    totalDevice = pd.concat(li, axis=0, ignore_index=True)\n",
    "    totalGroupedDevices.append(totalDevice)\n",
    "#     print(totalGroupedDevices.head(5))"
   ]
  },
  {
   "cell_type": "code",
   "execution_count": 3,
   "id": "ea10aef6",
   "metadata": {},
   "outputs": [
    {
     "name": "stdout",
     "output_type": "stream",
     "text": [
      "7\n"
     ]
    },
    {
     "name": "stderr",
     "output_type": "stream",
     "text": [
      "/opt/anaconda3/lib/python3.8/site-packages/IPython/core/interactiveshell.py:2358: DtypeWarning: Columns (0) have mixed types.Specify dtype option on import or set low_memory=False.\n",
      "  result = fn(*args, **kwargs)\n",
      "/opt/anaconda3/lib/python3.8/site-packages/pandas/core/indexing.py:1599: SettingWithCopyWarning: \n",
      "A value is trying to be set on a copy of a slice from a DataFrame.\n",
      "Try using .loc[row_indexer,col_indexer] = value instead\n",
      "\n",
      "See the caveats in the documentation: https://pandas.pydata.org/pandas-docs/stable/user_guide/indexing.html#returning-a-view-versus-a-copy\n",
      "  self.obj[key] = infer_fill_value(value)\n",
      "/opt/anaconda3/lib/python3.8/site-packages/pandas/core/indexing.py:1720: SettingWithCopyWarning: \n",
      "A value is trying to be set on a copy of a slice from a DataFrame.\n",
      "Try using .loc[row_indexer,col_indexer] = value instead\n",
      "\n",
      "See the caveats in the documentation: https://pandas.pydata.org/pandas-docs/stable/user_guide/indexing.html#returning-a-view-versus-a-copy\n",
      "  self._setitem_single_column(loc, value, pi)\n"
     ]
    },
    {
     "name": "stdout",
     "output_type": "stream",
     "text": [
      "(50, 12)\n",
      "0\n",
      "0\n",
      "38\n",
      "5\n",
      "375\n",
      "47\n",
      "3750\n",
      "469\n",
      "7500\n",
      "938\n"
     ]
    },
    {
     "name": "stderr",
     "output_type": "stream",
     "text": [
      "/opt/anaconda3/lib/python3.8/site-packages/IPython/core/interactiveshell.py:2358: DtypeWarning: Columns (0) have mixed types.Specify dtype option on import or set low_memory=False.\n",
      "  result = fn(*args, **kwargs)\n",
      "/opt/anaconda3/lib/python3.8/site-packages/pandas/core/indexing.py:1599: SettingWithCopyWarning: \n",
      "A value is trying to be set on a copy of a slice from a DataFrame.\n",
      "Try using .loc[row_indexer,col_indexer] = value instead\n",
      "\n",
      "See the caveats in the documentation: https://pandas.pydata.org/pandas-docs/stable/user_guide/indexing.html#returning-a-view-versus-a-copy\n",
      "  self.obj[key] = infer_fill_value(value)\n",
      "/opt/anaconda3/lib/python3.8/site-packages/pandas/core/indexing.py:1720: SettingWithCopyWarning: \n",
      "A value is trying to be set on a copy of a slice from a DataFrame.\n",
      "Try using .loc[row_indexer,col_indexer] = value instead\n",
      "\n",
      "See the caveats in the documentation: https://pandas.pydata.org/pandas-docs/stable/user_guide/indexing.html#returning-a-view-versus-a-copy\n",
      "  self._setitem_single_column(loc, value, pi)\n"
     ]
    },
    {
     "name": "stdout",
     "output_type": "stream",
     "text": [
      "(40, 12)\n",
      "0\n",
      "0\n",
      "38\n",
      "5\n",
      "375\n",
      "47\n",
      "3750\n",
      "469\n",
      "7500\n",
      "938\n"
     ]
    },
    {
     "name": "stderr",
     "output_type": "stream",
     "text": [
      "/opt/anaconda3/lib/python3.8/site-packages/IPython/core/interactiveshell.py:2358: DtypeWarning: Columns (0) have mixed types.Specify dtype option on import or set low_memory=False.\n",
      "  result = fn(*args, **kwargs)\n"
     ]
    },
    {
     "name": "stdout",
     "output_type": "stream",
     "text": [
      "(782, 12)\n",
      "0\n",
      "0\n",
      "38\n",
      "5\n"
     ]
    },
    {
     "name": "stderr",
     "output_type": "stream",
     "text": [
      "/opt/anaconda3/lib/python3.8/site-packages/pandas/core/indexing.py:1599: SettingWithCopyWarning: \n",
      "A value is trying to be set on a copy of a slice from a DataFrame.\n",
      "Try using .loc[row_indexer,col_indexer] = value instead\n",
      "\n",
      "See the caveats in the documentation: https://pandas.pydata.org/pandas-docs/stable/user_guide/indexing.html#returning-a-view-versus-a-copy\n",
      "  self.obj[key] = infer_fill_value(value)\n",
      "/opt/anaconda3/lib/python3.8/site-packages/pandas/core/indexing.py:1720: SettingWithCopyWarning: \n",
      "A value is trying to be set on a copy of a slice from a DataFrame.\n",
      "Try using .loc[row_indexer,col_indexer] = value instead\n",
      "\n",
      "See the caveats in the documentation: https://pandas.pydata.org/pandas-docs/stable/user_guide/indexing.html#returning-a-view-versus-a-copy\n",
      "  self._setitem_single_column(loc, value, pi)\n"
     ]
    },
    {
     "name": "stdout",
     "output_type": "stream",
     "text": [
      "375\n",
      "47\n",
      "3750\n",
      "469\n",
      "7500\n",
      "938\n"
     ]
    },
    {
     "name": "stderr",
     "output_type": "stream",
     "text": [
      "/opt/anaconda3/lib/python3.8/site-packages/IPython/core/interactiveshell.py:2358: DtypeWarning: Columns (0) have mixed types.Specify dtype option on import or set low_memory=False.\n",
      "  result = fn(*args, **kwargs)\n"
     ]
    },
    {
     "name": "stdout",
     "output_type": "stream",
     "text": [
      "(718, 12)\n",
      "10036088\n",
      "10000000\n",
      "38\n",
      "5\n"
     ]
    },
    {
     "name": "stderr",
     "output_type": "stream",
     "text": [
      "/opt/anaconda3/lib/python3.8/site-packages/pandas/core/indexing.py:1599: SettingWithCopyWarning: \n",
      "A value is trying to be set on a copy of a slice from a DataFrame.\n",
      "Try using .loc[row_indexer,col_indexer] = value instead\n",
      "\n",
      "See the caveats in the documentation: https://pandas.pydata.org/pandas-docs/stable/user_guide/indexing.html#returning-a-view-versus-a-copy\n",
      "  self.obj[key] = infer_fill_value(value)\n",
      "/opt/anaconda3/lib/python3.8/site-packages/pandas/core/indexing.py:1720: SettingWithCopyWarning: \n",
      "A value is trying to be set on a copy of a slice from a DataFrame.\n",
      "Try using .loc[row_indexer,col_indexer] = value instead\n",
      "\n",
      "See the caveats in the documentation: https://pandas.pydata.org/pandas-docs/stable/user_guide/indexing.html#returning-a-view-versus-a-copy\n",
      "  self._setitem_single_column(loc, value, pi)\n"
     ]
    },
    {
     "name": "stdout",
     "output_type": "stream",
     "text": [
      "375\n",
      "47\n",
      "3750\n",
      "469\n",
      "7500\n",
      "938\n"
     ]
    },
    {
     "name": "stderr",
     "output_type": "stream",
     "text": [
      "/opt/anaconda3/lib/python3.8/site-packages/IPython/core/interactiveshell.py:2358: DtypeWarning: Columns (0) have mixed types.Specify dtype option on import or set low_memory=False.\n",
      "  result = fn(*args, **kwargs)\n"
     ]
    },
    {
     "name": "stdout",
     "output_type": "stream",
     "text": [
      "(791, 12)\n",
      "0\n",
      "0\n",
      "38\n",
      "5\n"
     ]
    },
    {
     "name": "stderr",
     "output_type": "stream",
     "text": [
      "/opt/anaconda3/lib/python3.8/site-packages/pandas/core/indexing.py:1599: SettingWithCopyWarning: \n",
      "A value is trying to be set on a copy of a slice from a DataFrame.\n",
      "Try using .loc[row_indexer,col_indexer] = value instead\n",
      "\n",
      "See the caveats in the documentation: https://pandas.pydata.org/pandas-docs/stable/user_guide/indexing.html#returning-a-view-versus-a-copy\n",
      "  self.obj[key] = infer_fill_value(value)\n",
      "/opt/anaconda3/lib/python3.8/site-packages/pandas/core/indexing.py:1720: SettingWithCopyWarning: \n",
      "A value is trying to be set on a copy of a slice from a DataFrame.\n",
      "Try using .loc[row_indexer,col_indexer] = value instead\n",
      "\n",
      "See the caveats in the documentation: https://pandas.pydata.org/pandas-docs/stable/user_guide/indexing.html#returning-a-view-versus-a-copy\n",
      "  self._setitem_single_column(loc, value, pi)\n"
     ]
    },
    {
     "name": "stdout",
     "output_type": "stream",
     "text": [
      "375\n",
      "47\n",
      "3750\n",
      "469\n",
      "7500\n",
      "938\n"
     ]
    },
    {
     "name": "stderr",
     "output_type": "stream",
     "text": [
      "/opt/anaconda3/lib/python3.8/site-packages/IPython/core/interactiveshell.py:2358: DtypeWarning: Columns (0) have mixed types.Specify dtype option on import or set low_memory=False.\n",
      "  result = fn(*args, **kwargs)\n"
     ]
    },
    {
     "name": "stdout",
     "output_type": "stream",
     "text": [
      "(690, 12)\n",
      "10020145\n",
      "10000000\n",
      "38\n",
      "5\n",
      "375"
     ]
    },
    {
     "name": "stderr",
     "output_type": "stream",
     "text": [
      "/opt/anaconda3/lib/python3.8/site-packages/pandas/core/indexing.py:1599: SettingWithCopyWarning: \n",
      "A value is trying to be set on a copy of a slice from a DataFrame.\n",
      "Try using .loc[row_indexer,col_indexer] = value instead\n",
      "\n",
      "See the caveats in the documentation: https://pandas.pydata.org/pandas-docs/stable/user_guide/indexing.html#returning-a-view-versus-a-copy\n",
      "  self.obj[key] = infer_fill_value(value)\n",
      "/opt/anaconda3/lib/python3.8/site-packages/pandas/core/indexing.py:1720: SettingWithCopyWarning: \n",
      "A value is trying to be set on a copy of a slice from a DataFrame.\n",
      "Try using .loc[row_indexer,col_indexer] = value instead\n",
      "\n",
      "See the caveats in the documentation: https://pandas.pydata.org/pandas-docs/stable/user_guide/indexing.html#returning-a-view-versus-a-copy\n",
      "  self._setitem_single_column(loc, value, pi)\n"
     ]
    },
    {
     "name": "stdout",
     "output_type": "stream",
     "text": [
      "\n",
      "47\n",
      "3750\n",
      "469\n",
      "7500\n",
      "938\n"
     ]
    },
    {
     "name": "stderr",
     "output_type": "stream",
     "text": [
      "/opt/anaconda3/lib/python3.8/site-packages/IPython/core/interactiveshell.py:2358: DtypeWarning: Columns (0) have mixed types.Specify dtype option on import or set low_memory=False.\n",
      "  result = fn(*args, **kwargs)\n"
     ]
    },
    {
     "name": "stdout",
     "output_type": "stream",
     "text": [
      "(19, 12)\n",
      "20074367\n",
      "20000000\n",
      "38\n",
      "5\n",
      "375\n",
      "47\n"
     ]
    },
    {
     "name": "stderr",
     "output_type": "stream",
     "text": [
      "/opt/anaconda3/lib/python3.8/site-packages/pandas/core/indexing.py:1599: SettingWithCopyWarning: \n",
      "A value is trying to be set on a copy of a slice from a DataFrame.\n",
      "Try using .loc[row_indexer,col_indexer] = value instead\n",
      "\n",
      "See the caveats in the documentation: https://pandas.pydata.org/pandas-docs/stable/user_guide/indexing.html#returning-a-view-versus-a-copy\n",
      "  self.obj[key] = infer_fill_value(value)\n",
      "/opt/anaconda3/lib/python3.8/site-packages/pandas/core/indexing.py:1720: SettingWithCopyWarning: \n",
      "A value is trying to be set on a copy of a slice from a DataFrame.\n",
      "Try using .loc[row_indexer,col_indexer] = value instead\n",
      "\n",
      "See the caveats in the documentation: https://pandas.pydata.org/pandas-docs/stable/user_guide/indexing.html#returning-a-view-versus-a-copy\n",
      "  self._setitem_single_column(loc, value, pi)\n"
     ]
    },
    {
     "name": "stdout",
     "output_type": "stream",
     "text": [
      "3750\n",
      "469\n",
      "7500\n",
      "938\n"
     ]
    },
    {
     "name": "stderr",
     "output_type": "stream",
     "text": [
      "/opt/anaconda3/lib/python3.8/site-packages/IPython/core/interactiveshell.py:2358: DtypeWarning: Columns (0) have mixed types.Specify dtype option on import or set low_memory=False.\n",
      "  result = fn(*args, **kwargs)\n",
      "/opt/anaconda3/lib/python3.8/site-packages/pandas/core/indexing.py:1599: SettingWithCopyWarning: \n",
      "A value is trying to be set on a copy of a slice from a DataFrame.\n",
      "Try using .loc[row_indexer,col_indexer] = value instead\n",
      "\n",
      "See the caveats in the documentation: https://pandas.pydata.org/pandas-docs/stable/user_guide/indexing.html#returning-a-view-versus-a-copy\n",
      "  self.obj[key] = infer_fill_value(value)\n",
      "/opt/anaconda3/lib/python3.8/site-packages/pandas/core/indexing.py:1720: SettingWithCopyWarning: \n",
      "A value is trying to be set on a copy of a slice from a DataFrame.\n",
      "Try using .loc[row_indexer,col_indexer] = value instead\n",
      "\n",
      "See the caveats in the documentation: https://pandas.pydata.org/pandas-docs/stable/user_guide/indexing.html#returning-a-view-versus-a-copy\n",
      "  self._setitem_single_column(loc, value, pi)\n"
     ]
    },
    {
     "name": "stdout",
     "output_type": "stream",
     "text": [
      "(60, 12)\n",
      "0\n",
      "0\n",
      "38\n",
      "5\n",
      "375\n",
      "47\n",
      "3750\n",
      "469\n",
      "7500\n",
      "938\n"
     ]
    },
    {
     "name": "stderr",
     "output_type": "stream",
     "text": [
      "/opt/anaconda3/lib/python3.8/site-packages/IPython/core/interactiveshell.py:2358: DtypeWarning: Columns (0) have mixed types.Specify dtype option on import or set low_memory=False.\n",
      "  result = fn(*args, **kwargs)\n"
     ]
    },
    {
     "name": "stdout",
     "output_type": "stream",
     "text": [
      "(786, 12)\n",
      "0\n",
      "0\n",
      "38\n",
      "5\n"
     ]
    },
    {
     "name": "stderr",
     "output_type": "stream",
     "text": [
      "/opt/anaconda3/lib/python3.8/site-packages/pandas/core/indexing.py:1599: SettingWithCopyWarning: \n",
      "A value is trying to be set on a copy of a slice from a DataFrame.\n",
      "Try using .loc[row_indexer,col_indexer] = value instead\n",
      "\n",
      "See the caveats in the documentation: https://pandas.pydata.org/pandas-docs/stable/user_guide/indexing.html#returning-a-view-versus-a-copy\n",
      "  self.obj[key] = infer_fill_value(value)\n",
      "/opt/anaconda3/lib/python3.8/site-packages/pandas/core/indexing.py:1720: SettingWithCopyWarning: \n",
      "A value is trying to be set on a copy of a slice from a DataFrame.\n",
      "Try using .loc[row_indexer,col_indexer] = value instead\n",
      "\n",
      "See the caveats in the documentation: https://pandas.pydata.org/pandas-docs/stable/user_guide/indexing.html#returning-a-view-versus-a-copy\n",
      "  self._setitem_single_column(loc, value, pi)\n"
     ]
    },
    {
     "name": "stdout",
     "output_type": "stream",
     "text": [
      "375\n",
      "47\n",
      "3750\n",
      "469\n",
      "7500\n",
      "938\n"
     ]
    },
    {
     "name": "stderr",
     "output_type": "stream",
     "text": [
      "/opt/anaconda3/lib/python3.8/site-packages/IPython/core/interactiveshell.py:2358: DtypeWarning: Columns (0) have mixed types.Specify dtype option on import or set low_memory=False.\n",
      "  result = fn(*args, **kwargs)\n"
     ]
    },
    {
     "name": "stdout",
     "output_type": "stream",
     "text": [
      "(714, 12)\n",
      "10049083\n",
      "10000000\n",
      "38\n",
      "5\n"
     ]
    },
    {
     "name": "stderr",
     "output_type": "stream",
     "text": [
      "/opt/anaconda3/lib/python3.8/site-packages/pandas/core/indexing.py:1599: SettingWithCopyWarning: \n",
      "A value is trying to be set on a copy of a slice from a DataFrame.\n",
      "Try using .loc[row_indexer,col_indexer] = value instead\n",
      "\n",
      "See the caveats in the documentation: https://pandas.pydata.org/pandas-docs/stable/user_guide/indexing.html#returning-a-view-versus-a-copy\n",
      "  self.obj[key] = infer_fill_value(value)\n",
      "/opt/anaconda3/lib/python3.8/site-packages/pandas/core/indexing.py:1720: SettingWithCopyWarning: \n",
      "A value is trying to be set on a copy of a slice from a DataFrame.\n",
      "Try using .loc[row_indexer,col_indexer] = value instead\n",
      "\n",
      "See the caveats in the documentation: https://pandas.pydata.org/pandas-docs/stable/user_guide/indexing.html#returning-a-view-versus-a-copy\n",
      "  self._setitem_single_column(loc, value, pi)\n"
     ]
    },
    {
     "name": "stdout",
     "output_type": "stream",
     "text": [
      "375\n",
      "47\n",
      "3750\n",
      "469\n",
      "7500\n",
      "938\n"
     ]
    },
    {
     "name": "stderr",
     "output_type": "stream",
     "text": [
      "/opt/anaconda3/lib/python3.8/site-packages/IPython/core/interactiveshell.py:2358: DtypeWarning: Columns (0) have mixed types.Specify dtype option on import or set low_memory=False.\n",
      "  result = fn(*args, **kwargs)\n"
     ]
    },
    {
     "name": "stdout",
     "output_type": "stream",
     "text": [
      "(765, 12)\n",
      "0\n",
      "0\n",
      "38\n",
      "5\n"
     ]
    },
    {
     "name": "stderr",
     "output_type": "stream",
     "text": [
      "/opt/anaconda3/lib/python3.8/site-packages/pandas/core/indexing.py:1599: SettingWithCopyWarning: \n",
      "A value is trying to be set on a copy of a slice from a DataFrame.\n",
      "Try using .loc[row_indexer,col_indexer] = value instead\n",
      "\n",
      "See the caveats in the documentation: https://pandas.pydata.org/pandas-docs/stable/user_guide/indexing.html#returning-a-view-versus-a-copy\n",
      "  self.obj[key] = infer_fill_value(value)\n",
      "/opt/anaconda3/lib/python3.8/site-packages/pandas/core/indexing.py:1720: SettingWithCopyWarning: \n",
      "A value is trying to be set on a copy of a slice from a DataFrame.\n",
      "Try using .loc[row_indexer,col_indexer] = value instead\n",
      "\n",
      "See the caveats in the documentation: https://pandas.pydata.org/pandas-docs/stable/user_guide/indexing.html#returning-a-view-versus-a-copy\n",
      "  self._setitem_single_column(loc, value, pi)\n"
     ]
    },
    {
     "name": "stdout",
     "output_type": "stream",
     "text": [
      "375\n",
      "47\n",
      "3750\n",
      "469\n",
      "7500\n",
      "938\n"
     ]
    },
    {
     "name": "stderr",
     "output_type": "stream",
     "text": [
      "/opt/anaconda3/lib/python3.8/site-packages/IPython/core/interactiveshell.py:2358: DtypeWarning: Columns (0) have mixed types.Specify dtype option on import or set low_memory=False.\n",
      "  result = fn(*args, **kwargs)\n"
     ]
    },
    {
     "name": "stdout",
     "output_type": "stream",
     "text": [
      "(723, 12)\n",
      "10001853\n",
      "10000000\n",
      "38\n",
      "5\n"
     ]
    },
    {
     "name": "stderr",
     "output_type": "stream",
     "text": [
      "/opt/anaconda3/lib/python3.8/site-packages/pandas/core/indexing.py:1599: SettingWithCopyWarning: \n",
      "A value is trying to be set on a copy of a slice from a DataFrame.\n",
      "Try using .loc[row_indexer,col_indexer] = value instead\n",
      "\n",
      "See the caveats in the documentation: https://pandas.pydata.org/pandas-docs/stable/user_guide/indexing.html#returning-a-view-versus-a-copy\n",
      "  self.obj[key] = infer_fill_value(value)\n",
      "/opt/anaconda3/lib/python3.8/site-packages/pandas/core/indexing.py:1720: SettingWithCopyWarning: \n",
      "A value is trying to be set on a copy of a slice from a DataFrame.\n",
      "Try using .loc[row_indexer,col_indexer] = value instead\n",
      "\n",
      "See the caveats in the documentation: https://pandas.pydata.org/pandas-docs/stable/user_guide/indexing.html#returning-a-view-versus-a-copy\n",
      "  self._setitem_single_column(loc, value, pi)\n"
     ]
    },
    {
     "name": "stdout",
     "output_type": "stream",
     "text": [
      "375\n",
      "47\n",
      "3750\n",
      "469\n",
      "7500\n",
      "938\n",
      "(12, 12)\n",
      "20002161\n",
      "20000000\n",
      "38\n",
      "5\n",
      "375\n",
      "47\n",
      "3750\n",
      "469\n"
     ]
    },
    {
     "name": "stderr",
     "output_type": "stream",
     "text": [
      "/opt/anaconda3/lib/python3.8/site-packages/pandas/core/indexing.py:1599: SettingWithCopyWarning: \n",
      "A value is trying to be set on a copy of a slice from a DataFrame.\n",
      "Try using .loc[row_indexer,col_indexer] = value instead\n",
      "\n",
      "See the caveats in the documentation: https://pandas.pydata.org/pandas-docs/stable/user_guide/indexing.html#returning-a-view-versus-a-copy\n",
      "  self.obj[key] = infer_fill_value(value)\n",
      "/opt/anaconda3/lib/python3.8/site-packages/pandas/core/indexing.py:1720: SettingWithCopyWarning: \n",
      "A value is trying to be set on a copy of a slice from a DataFrame.\n",
      "Try using .loc[row_indexer,col_indexer] = value instead\n",
      "\n",
      "See the caveats in the documentation: https://pandas.pydata.org/pandas-docs/stable/user_guide/indexing.html#returning-a-view-versus-a-copy\n",
      "  self._setitem_single_column(loc, value, pi)\n"
     ]
    },
    {
     "name": "stdout",
     "output_type": "stream",
     "text": [
      "7500\n",
      "938\n",
      "CPU times: user 23min 48s, sys: 22.9 s, total: 24min 10s\n",
      "Wall time: 24min 17s\n"
     ]
    }
   ],
   "source": [
    "%%time\n",
    "import pandas as pd\n",
    "import glob\n",
    "import os\n",
    "\n",
    "allpath = \"/volumes/Samsung_T5/Research Project/Datasets/USA/\"\n",
    "all_files = glob.glob(os.path.join(allpath , \"*.csv\"))\n",
    "\n",
    "i =0\n",
    "print(len(all_files))\n",
    "for filename in all_files:\n",
    "    data = pd.read_csv(filename,chunksize=10000000)\n",
    "    generateFinalData(data)"
   ]
  },
  {
   "cell_type": "code",
   "execution_count": 5,
   "id": "6a149d17",
   "metadata": {},
   "outputs": [],
   "source": [
    "# finalData = pd.DataFrame()\n",
    "\n",
    "overAllData = pd.concat(totalGroupedDevices, axis=0, ignore_index=True)"
   ]
  },
  {
   "cell_type": "code",
   "execution_count": 6,
   "id": "a5a3078e",
   "metadata": {},
   "outputs": [
    {
     "data": {
      "text/plain": [
       "(6150, 48)"
      ]
     },
     "execution_count": 6,
     "metadata": {},
     "output_type": "execute_result"
    }
   ],
   "source": [
    "overAllData.shape"
   ]
  },
  {
   "cell_type": "code",
   "execution_count": 7,
   "id": "17625ed3",
   "metadata": {},
   "outputs": [],
   "source": [
    "totalGroupedDevices = overAllData"
   ]
  },
  {
   "cell_type": "code",
   "execution_count": 11,
   "id": "fccb531d",
   "metadata": {},
   "outputs": [],
   "source": [
    "totalGroupedDevices = totalGroupedDevices.drop(totalGroupedDevices.columns[[1, 2, 3, 4, 5, 6, 7, 8, 9, 10, 11]], axis=1) "
   ]
  },
  {
   "cell_type": "code",
   "execution_count": 16,
   "id": "341e77e9",
   "metadata": {},
   "outputs": [],
   "source": [
    "totalGroupedDevices.to_csv(\"/Users/sathish/NCI/Final Project/Works/Final Results/usa_result.csv\")"
   ]
  }
 ],
 "metadata": {
  "kernelspec": {
   "display_name": "Python 3",
   "language": "python",
   "name": "python3"
  },
  "language_info": {
   "codemirror_mode": {
    "name": "ipython",
    "version": 3
   },
   "file_extension": ".py",
   "mimetype": "text/x-python",
   "name": "python",
   "nbconvert_exporter": "python",
   "pygments_lexer": "ipython3",
   "version": "3.8.8"
  }
 },
 "nbformat": 4,
 "nbformat_minor": 5
}
